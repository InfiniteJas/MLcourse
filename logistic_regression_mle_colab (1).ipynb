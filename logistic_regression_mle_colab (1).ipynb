{
 "cells": [
  {
   "cell_type": "markdown",
   "id": "ebb50fcb",
   "metadata": {},
   "source": [
    "# Логистическая регрессия с методом максимального правдоподобия\n",
    "Этот ноутбук предназначен для Google Colab. В нем подробно объясняются все этапы работы с данными: их предобработка, разбиение на обучающую и тестовую выборки, а также реализация метода максимального правдоподобия для логистической регрессии."
   ]
  },
  {
   "cell_type": "markdown",
   "id": "76a0125c",
   "metadata": {},
   "source": [
    "## 1. Импорт библиотек\n",
    "Сначала импортируем необходимые библиотеки:\n",
    "- `numpy` для работы с массивами и линейной алгеброй\n",
    "- `pandas` для работы с табличными данными\n",
    "- `seaborn` и `matplotlib` для визуализации данных\n",
    "- `scipy.optimize` для оптимизации функции правдоподобия\n",
    "- `sklearn.model_selection` для разделения данных на обучающую и тестовую выборки"
   ]
  },
  {
   "cell_type": "code",
   "execution_count": null,
   "id": "4ab2c654",
   "metadata": {},
   "outputs": [],
   "source": [
    "import numpy as np\n",
    "import pandas as pd\n",
    "import seaborn as sns\n",
    "import matplotlib.pyplot as plt\n",
    "from scipy.optimize import minimize\n",
    "from sklearn.model_selection import train_test_split\n",
    "%matplotlib inline"
   ]
  },
  {
   "cell_type": "markdown",
   "id": "99008044",
   "metadata": {},
   "source": [
    "## 2. Загрузка и анализ данных\n",
    "Для демонстрации мы будем использовать набор данных о пассажирах Титаника. Этот набор данных содержит информацию о пассажирах, включая их возраст, пол, класс обслуживания и другие характеристики, которые могут повлиять на их вероятность выживания. Наша задача — предсказать, выжил пассажир или нет."
   ]
  },
  {
   "cell_type": "code",
   "execution_count": null,
   "id": "98ef4a5a",
   "metadata": {},
   "outputs": [],
   "source": [
    "url = 'https://raw.githubusercontent.com/ageron/handson-ml/master/datasets/titanic/train.csv'\n",
    "df = pd.read_csv(url)\n",
    "df.head()"
   ]
  },
  {
   "cell_type": "markdown",
   "id": "782f2266",
   "metadata": {},
   "source": [
    "## 3. Очистка данных\n",
    "Перед обучением модели необходимо подготовить данные:\n",
    "- Преобразуем названия столбцов к нижнему регистру\n",
    "- Заполним пропущенные значения в колонке `age` медианой\n",
    "- Преобразуем категориальные переменные (пол, порт посадки) в числовой формат"
   ]
  },
  {
   "cell_type": "code",
   "execution_count": null,
   "id": "f8dcaba6",
   "metadata": {},
   "outputs": [],
   "source": [
    "df.columns = df.columns.str.lower().str.replace(' ', '_')\n",
    "df['age'].fillna(df['age'].median(), inplace=True)\n",
    "df['sex'] = (df['sex'] == 'male').astype(int)\n",
    "df['embarked'] = df['embarked'].fillna('S')\n",
    "df = pd.get_dummies(df, columns=['embarked'], drop_first=True)\n",
    "df.dtypes"
   ]
  },
  {
   "cell_type": "markdown",
   "id": "76eef167",
   "metadata": {},
   "source": [
    "## 4. Разделение данных\n",
    "Выбираем важные признаки для модели и разделяем данные на обучающую и тестовую выборки."
   ]
  },
  {
   "cell_type": "code",
   "execution_count": null,
   "id": "52791412",
   "metadata": {},
   "outputs": [],
   "source": [
    "features = ['pclass', 'sex', 'age', 'sibsp', 'parch', 'fare', 'embarked_Q', 'embarked_S']\n",
    "X = df[features]\n",
    "y = df['survived']\n",
    "X_train, X_test, y_train, y_test = train_test_split(X, y, test_size=0.2, random_state=42)\n",
    "X_train.shape, X_test.shape"
   ]
  },
  {
   "cell_type": "markdown",
   "id": "c7b4a629",
   "metadata": {},
   "source": [
    "## 5. Метод максимального правдоподобия\n",
    "Функция логарифма правдоподобия вычисляет вероятность наблюдаемых данных при заданных параметрах модели. Мы будем минимизировать отрицательное правдоподобие, так как `scipy.optimize.minimize` выполняет минимизацию."
   ]
  },
  {
   "cell_type": "code",
   "execution_count": null,
   "id": "912d71fa",
   "metadata": {},
   "outputs": [],
   "source": [
    "def log_likelihood(theta, X, y):\n",
    "    z = np.dot(X, theta)\n",
    "    log_l = np.sum(y * z - np.log(1 + np.exp(z)))\n",
    "    return -log_l"
   ]
  },
  {
   "cell_type": "markdown",
   "id": "7f813af0",
   "metadata": {},
   "source": [
    "## 6. Обучение модели логистической регрессии\n",
    "Мы используем метод BFGS для минимизации отрицательного логарифма правдоподобия и получения оптимальных коэффициентов модели."
   ]
  },
  {
   "cell_type": "code",
   "execution_count": null,
   "id": "bdd87a04",
   "metadata": {},
   "outputs": [],
   "source": [
    "def train_mle(X, y):\n",
    "    n_features = X.shape[1]\n",
    "    initial_theta = np.zeros(n_features)\n",
    "    result = minimize(log_likelihood, initial_theta, args=(X, y), method='BFGS')\n",
    "    return result.x\n",
    "\n",
    "# Добавляем единичный столбец для свободного члена (intercept)\n",
    "X_train_mle = np.hstack((np.ones((X_train.shape[0], 1)), X_train))\n",
    "\n",
    "# Обучаем модель\n",
    "theta_opt = train_mle(X_train_mle, y_train)\n",
    "theta_opt"
   ]
  },
  {
   "cell_type": "markdown",
   "id": "97a02cf7",
   "metadata": {},
   "source": [
    "## 7. Интерпретация коэффициентов\n",
    "Каждый коэффициент показывает, как соответствующий признак влияет на вероятность выживания пассажира. Чем больше коэффициент, тем сильнее влияние."
   ]
  },
  {
   "cell_type": "code",
   "execution_count": null,
   "id": "7a0fcaf9",
   "metadata": {},
   "outputs": [],
   "source": [
    "feature_names = ['Intercept'] + features\n",
    "for name, coef in zip(feature_names, theta_opt):\n",
    "    print(f'{name}: {coef:.4f}')"
   ]
  }
 ],
 "metadata": {},
 "nbformat": 4,
 "nbformat_minor": 5
}