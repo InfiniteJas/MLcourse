{
 "cells": [
  {
   "cell_type": "markdown",
   "id": "e1038eff",
   "metadata": {},
   "source": [
    "# Логистическая регрессия с методом максимального правдоподобия\n",
    "Этот ноутбук предназначен для запуска в Google Colab. Он включает все этапы предобработки данных, обучения модели и оценки параметров с помощью метода максимального правдоподобия."
   ]
  },
  {
   "cell_type": "markdown",
   "id": "fdcc68de",
   "metadata": {},
   "source": [
    "## 1. Импорт необходимых библиотек"
   ]
  },
  {
   "cell_type": "code",
   "execution_count": null,
   "id": "94bed646",
   "metadata": {},
   "outputs": [],
   "source": [
    "import numpy as np\n",
    "import pandas as pd\n",
    "import seaborn as sns\n",
    "import matplotlib.pyplot as plt\n",
    "from scipy.optimize import minimize\n",
    "from sklearn.model_selection import train_test_split\n",
    "%matplotlib inline"
   ]
  },
  {
   "cell_type": "markdown",
   "id": "f2ff97b9",
   "metadata": {},
   "source": [
    "## 2. Загрузка и предварительный анализ данных"
   ]
  },
  {
   "cell_type": "code",
   "execution_count": null,
   "id": "97123bf8",
   "metadata": {},
   "outputs": [],
   "source": [
    "# Загрузка данных (используем публичный датасет churn) \n",
    "url = 'https://raw.githubusercontent.com/ageron/handson-ml/master/datasets/titanic/train.csv'\n",
    "df = pd.read_csv(url)\n",
    "\n",
    "# Просмотр первых 5 строк\n",
    "df.head()"
   ]
  },
  {
   "cell_type": "markdown",
   "id": "ff2b0df2",
   "metadata": {},
   "source": [
    "## 3. Очистка данных и предобработка"
   ]
  },
  {
   "cell_type": "code",
   "execution_count": null,
   "id": "940695df",
   "metadata": {},
   "outputs": [],
   "source": [
    "# Преобразуем названия колонок в нижний регистр и заменяем пробелы\n",
    "df.columns = df.columns.str.lower().str.replace(' ', '_')\n",
    "\n",
    "# Заполняем пропущенные значения медианой\n",
    "df['age'].fillna(df['age'].median(), inplace=True)\n",
    "\n",
    "# Преобразуем категориальные переменные в числовые\n",
    "df['sex'] = (df['sex'] == 'male').astype(int)\n",
    "df['embarked'] = df['embarked'].fillna('S')\n",
    "df = pd.get_dummies(df, columns=['embarked'], drop_first=True)\n",
    "\n",
    "# Выводим типы данных\n",
    "df.dtypes"
   ]
  },
  {
   "cell_type": "markdown",
   "id": "8847e4b2",
   "metadata": {},
   "source": [
    "## 4. Разделение данных на обучающую и тестовую выборки"
   ]
  },
  {
   "cell_type": "code",
   "execution_count": null,
   "id": "b4746af1",
   "metadata": {},
   "outputs": [],
   "source": [
    "# Выбираем признаки и целевую переменную\n",
    "features = ['pclass', 'sex', 'age', 'sibsp', 'parch', 'fare', 'embarked_Q', 'embarked_S']\n",
    "X = df[features]\n",
    "y = df['survived']\n",
    "\n",
    "# Разделяем на обучающий и тестовый набор\n",
    "X_train, X_test, y_train, y_test = train_test_split(X, y, test_size=0.2, random_state=42)\n",
    "\n",
    "# Проверяем размерность\n",
    "X_train.shape, X_test.shape"
   ]
  },
  {
   "cell_type": "markdown",
   "id": "100b21bc",
   "metadata": {},
   "source": [
    "## 5. Реализация метода максимального правдоподобия"
   ]
  },
  {
   "cell_type": "code",
   "execution_count": null,
   "id": "1f7ff8a8",
   "metadata": {},
   "outputs": [],
   "source": [
    "def log_likelihood(theta, X, y):\n",
    "    z = np.dot(X, theta)\n",
    "    log_l = np.sum(y * z - np.log(1 + np.exp(z)))\n",
    "    return -log_l  # Минимизируем отрицательное правдоподобие"
   ]
  },
  {
   "cell_type": "markdown",
   "id": "f1649ce6",
   "metadata": {},
   "source": [
    "## 6. Обучение модели логистической регрессии"
   ]
  },
  {
   "cell_type": "code",
   "execution_count": null,
   "id": "ab3f4b4b",
   "metadata": {},
   "outputs": [],
   "source": [
    "def train_mle(X, y):\n",
    "    n_features = X.shape[1]\n",
    "    initial_theta = np.zeros(n_features)\n",
    "    result = minimize(log_likelihood, initial_theta, args=(X, y), method='BFGS')\n",
    "    return result.x\n",
    "\n",
    "# Добавляем единичный столбец для свободного члена\n",
    "X_train_mle = np.hstack((np.ones((X_train.shape[0], 1)), X_train))\n",
    "\n",
    "# Обучаем модель\n",
    "theta_opt = train_mle(X_train_mle, y_train)\n",
    "theta_opt"
   ]
  },
  {
   "cell_type": "markdown",
   "id": "2c411ff2",
   "metadata": {},
   "source": [
    "## 7. Интерпретация коэффициентов"
   ]
  },
  {
   "cell_type": "code",
   "execution_count": null,
   "id": "dd31c1ac",
   "metadata": {},
   "outputs": [],
   "source": [
    "feature_names = ['Intercept'] + features\n",
    "for name, coef in zip(feature_names, theta_opt):\n",
    "    print(f'{name}: {coef:.4f}')"
   ]
  }
 ],
 "metadata": {},
 "nbformat": 4,
 "nbformat_minor": 5
}